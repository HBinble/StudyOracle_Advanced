{
 "cells": [
  {
   "cell_type": "code",
   "execution_count": 10,
   "id": "8232b7a6",
   "metadata": {},
   "outputs": [],
   "source": [
    "# conda install -c conda-forge cx_Oracle\n",
    "# pip install cx_Oracle"
   ]
  },
  {
   "cell_type": "code",
   "execution_count": 1,
   "id": "3f38464e",
   "metadata": {},
   "outputs": [],
   "source": [
    "import cx_Oracle\n",
    "import pandas as pd"
   ]
  },
  {
   "cell_type": "code",
   "execution_count": null,
   "id": "bc58def5",
   "metadata": {},
   "outputs": [],
   "source": [
    "dsn = cx_Oracle.makedsn('localhost', 1521, 'xe')\n",
    "#connect(id, passward, dsn)\n",
    "db = cx_Oracle.connect('ICIA', '1111', dsn)\n",
    "cursor = db.cursor()\n",
    "\n",
    "query = 'CREATE TABLE TEST1(id number(1), name varchar(5), constraint test1_pk primary key(id))'\n",
    "cursor.execute(query)\n",
    "cursor.close()\n",
    "db.close()"
   ]
  }
 ],
 "metadata": {
  "kernelspec": {
   "display_name": "Python 3 (ipykernel)",
   "language": "python",
   "name": "python3"
  },
  "language_info": {
   "codemirror_mode": {
    "name": "ipython",
    "version": 3
   },
   "file_extension": ".py",
   "mimetype": "text/x-python",
   "name": "python",
   "nbconvert_exporter": "python",
   "pygments_lexer": "ipython3",
   "version": "3.9.12"
  }
 },
 "nbformat": 4,
 "nbformat_minor": 5
}
