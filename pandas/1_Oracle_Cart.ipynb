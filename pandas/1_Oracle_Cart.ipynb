{
 "cells": [
  {
   "cell_type": "code",
   "execution_count": null,
   "id": "f9b1539f",
   "metadata": {},
   "outputs": [],
   "source": [
    "# conda install -c conda-forge cx_Oracle\n",
    "# pip install cx_Oracle\n"
   ]
  },
  {
   "cell_type": "code",
   "execution_count": 13,
   "id": "fb304d1f",
   "metadata": {},
   "outputs": [],
   "source": [
    "import cx_Oracle\n",
    "import pandas as pd"
   ]
  },
  {
   "cell_type": "markdown",
   "id": "3b547e91",
   "metadata": {},
   "source": [
    "##### 1. 접속계정으로 문 열고(dsn) 2. 허가받고(conn) 3. 싣고,실어나를수 있는 것(cursor) 4.SQL(앞뒤로 한칸씩 띄우고)"
   ]
  },
  {
   "cell_type": "code",
   "execution_count": 21,
   "id": "5aa20cb1",
   "metadata": {},
   "outputs": [
    {
     "data": {
      "text/plain": [
       "'(DESCRIPTION=(ADDRESS=(PROTOCOL=TCP)(HOST=localhost)(PORT=1521))(CONNECT_DATA=(SID=orcl)))'"
      ]
     },
     "execution_count": 21,
     "metadata": {},
     "output_type": "execute_result"
    }
   ],
   "source": [
    "# 오라클 서버 연결 정보 : (주소, 포트번호, 서비스이름)\n",
    "dsn = cx_Oracle.makedsn(\"localhost\", 1521, \"orcl\")\n",
    "dsn"
   ]
  },
  {
   "cell_type": "code",
   "execution_count": 44,
   "id": "f1d1af33",
   "metadata": {},
   "outputs": [
    {
     "data": {
      "text/plain": [
       "<cx_Oracle.Connection to busan_06@(DESCRIPTION=(ADDRESS=(PROTOCOL=TCP)(HOST=localhost)(PORT=1521))(CONNECT_DATA=(SID=orcl)))>"
      ]
     },
     "execution_count": 44,
     "metadata": {},
     "output_type": "execute_result"
    }
   ],
   "source": [
    "# 오라클 접속 정보 : (계정, 패스워드, 연결정보)\n",
    "conn = cx_Oracle.connect(\"busan_06\", \"dbdb\", dsn)\n",
    "conn"
   ]
  },
  {
   "cell_type": "code",
   "execution_count": 45,
   "id": "7122d751",
   "metadata": {},
   "outputs": [
    {
     "data": {
      "text/plain": [
       "<cx_Oracle.Cursor on <cx_Oracle.Connection to busan_06@(DESCRIPTION=(ADDRESS=(PROTOCOL=TCP)(HOST=localhost)(PORT=1521))(CONNECT_DATA=(SID=orcl)))>>"
      ]
     },
     "execution_count": 45,
     "metadata": {},
     "output_type": "execute_result"
    }
   ],
   "source": [
    "# 쿼리를 실행할 객체 (서버 갔다오는 객체)\n",
    "cursor = conn.cursor()\n",
    "cursor"
   ]
  },
  {
   "cell_type": "code",
   "execution_count": 29,
   "id": "cfc1a868",
   "metadata": {},
   "outputs": [
    {
     "data": {
      "text/plain": [
       "' SELECT *\\n            FROM cart '"
      ]
     },
     "execution_count": 29,
     "metadata": {},
     "output_type": "execute_result"
    }
   ],
   "source": [
    "sql = \"\"\" SELECT *\n",
    "            FROM cart \"\"\"\n",
    "sql            "
   ]
  },
  {
   "cell_type": "code",
   "execution_count": 30,
   "id": "8b2f60a0",
   "metadata": {},
   "outputs": [
    {
     "data": {
      "text/plain": [
       "<cx_Oracle.Cursor on <cx_Oracle.Connection to busan_06@(DESCRIPTION=(ADDRESS=(PROTOCOL=TCP)(HOST=localhost)(PORT=1521))(CONNECT_DATA=(SID=orcl)))>>"
      ]
     },
     "execution_count": 30,
     "metadata": {},
     "output_type": "execute_result"
    }
   ],
   "source": [
    "# execute 함수 = 실행요청\n",
    "cursor.execute(sql)"
   ]
  },
  {
   "cell_type": "code",
   "execution_count": 50,
   "id": "c3b6e78e",
   "metadata": {},
   "outputs": [
    {
     "ename": "InterfaceError",
     "evalue": "not open",
     "output_type": "error",
     "traceback": [
      "\u001b[1;31m---------------------------------------------------------------------------\u001b[0m",
      "\u001b[1;31mInterfaceError\u001b[0m                            Traceback (most recent call last)",
      "\u001b[1;32mc:\\Users\\admin\\STUDY\\StudyPython_Advanced\\StudyOracle_Advanced\\pandas\\1_Oracle_Cart.ipynb Cell 9'\u001b[0m in \u001b[0;36m<cell line: 2>\u001b[1;34m()\u001b[0m\n\u001b[0;32m      <a href='vscode-notebook-cell:/c%3A/Users/admin/STUDY/StudyPython_Advanced/StudyOracle_Advanced/pandas/1_Oracle_Cart.ipynb#ch0000018?line=0'>1</a>\u001b[0m \u001b[39m#fetchall() = data 모두 가져오기\u001b[39;00m\n\u001b[1;32m----> <a href='vscode-notebook-cell:/c%3A/Users/admin/STUDY/StudyPython_Advanced/StudyOracle_Advanced/pandas/1_Oracle_Cart.ipynb#ch0000018?line=1'>2</a>\u001b[0m row \u001b[39m=\u001b[39m cursor\u001b[39m.\u001b[39;49mfetchall()\n\u001b[0;32m      <a href='vscode-notebook-cell:/c%3A/Users/admin/STUDY/StudyPython_Advanced/StudyOracle_Advanced/pandas/1_Oracle_Cart.ipynb#ch0000018?line=2'>3</a>\u001b[0m row\n",
      "\u001b[1;31mInterfaceError\u001b[0m: not open"
     ]
    }
   ],
   "source": [
    "#fetchall() = data 모두 가져오기\n",
    "row = cursor.fetchall()\n",
    "row"
   ]
  },
  {
   "cell_type": "code",
   "execution_count": 38,
   "id": "744fde41",
   "metadata": {},
   "outputs": [
    {
     "data": {
      "text/plain": [
       "[('CART_MEMBER', <cx_Oracle.DbType DB_TYPE_VARCHAR>, 15, 15, None, None, 0),\n",
       " ('CART_NO', <cx_Oracle.DbType DB_TYPE_CHAR>, 13, 13, None, None, 0),\n",
       " ('CART_PROD', <cx_Oracle.DbType DB_TYPE_VARCHAR>, 10, 10, None, None, 0),\n",
       " ('CART_QTY', <cx_Oracle.DbType DB_TYPE_NUMBER>, 9, None, 8, 0, 0)]"
      ]
     },
     "execution_count": 38,
     "metadata": {},
     "output_type": "execute_result"
    }
   ],
   "source": [
    "colname = cursor.description # list, tuple 형태(형태 중요!)\n",
    "colname"
   ]
  },
  {
   "cell_type": "code",
   "execution_count": 46,
   "id": "f4ff29d4",
   "metadata": {},
   "outputs": [],
   "source": [
    "cursor.close()"
   ]
  },
  {
   "cell_type": "code",
   "execution_count": 47,
   "id": "4119f426",
   "metadata": {},
   "outputs": [],
   "source": [
    "conn.close()"
   ]
  },
  {
   "cell_type": "markdown",
   "id": "2a1405ee",
   "metadata": {},
   "source": [
    "### 데이터 프레임 만들기"
   ]
  },
  {
   "cell_type": "code",
   "execution_count": 98,
   "id": "235c362c",
   "metadata": {},
   "outputs": [
    {
     "name": "stdout",
     "output_type": "stream",
     "text": [
      "CART_MEMBER\n",
      "CART_NO\n",
      "CART_PROD\n",
      "CART_QTY\n"
     ]
    },
    {
     "data": {
      "text/plain": [
       "['CART_MEMBER', 'CART_NO', 'CART_PROD', 'CART_QTY']"
      ]
     },
     "execution_count": 98,
     "metadata": {},
     "output_type": "execute_result"
    }
   ],
   "source": [
    "# 컬럼 뽑아오기\n",
    "col =[]\n",
    "for tp in colname:\n",
    "    print(tp[0])\n",
    "    col.append(tp[0])\n",
    "col"
   ]
  },
  {
   "cell_type": "code",
   "execution_count": 99,
   "id": "feb3d7dc",
   "metadata": {},
   "outputs": [
    {
     "data": {
      "text/html": [
       "<div>\n",
       "<style scoped>\n",
       "    .dataframe tbody tr th:only-of-type {\n",
       "        vertical-align: middle;\n",
       "    }\n",
       "\n",
       "    .dataframe tbody tr th {\n",
       "        vertical-align: top;\n",
       "    }\n",
       "\n",
       "    .dataframe thead th {\n",
       "        text-align: right;\n",
       "    }\n",
       "</style>\n",
       "<table border=\"1\" class=\"dataframe\">\n",
       "  <thead>\n",
       "    <tr style=\"text-align: right;\">\n",
       "      <th></th>\n",
       "      <th>CART_MEMBER</th>\n",
       "      <th>CART_NO</th>\n",
       "      <th>CART_PROD</th>\n",
       "      <th>CART_QTY</th>\n",
       "    </tr>\n",
       "  </thead>\n",
       "  <tbody>\n",
       "    <tr>\n",
       "      <th>0</th>\n",
       "      <td>a001</td>\n",
       "      <td>2005040100001</td>\n",
       "      <td>P101000001</td>\n",
       "      <td>5</td>\n",
       "    </tr>\n",
       "    <tr>\n",
       "      <th>1</th>\n",
       "      <td>a001</td>\n",
       "      <td>2005040100001</td>\n",
       "      <td>P201000018</td>\n",
       "      <td>16</td>\n",
       "    </tr>\n",
       "    <tr>\n",
       "      <th>2</th>\n",
       "      <td>a001</td>\n",
       "      <td>2005040100001</td>\n",
       "      <td>P302000003</td>\n",
       "      <td>7</td>\n",
       "    </tr>\n",
       "    <tr>\n",
       "      <th>3</th>\n",
       "      <td>t001</td>\n",
       "      <td>2005040100002</td>\n",
       "      <td>P302000004</td>\n",
       "      <td>2</td>\n",
       "    </tr>\n",
       "    <tr>\n",
       "      <th>4</th>\n",
       "      <td>t001</td>\n",
       "      <td>2005040100002</td>\n",
       "      <td>P101000002</td>\n",
       "      <td>2</td>\n",
       "    </tr>\n",
       "    <tr>\n",
       "      <th>...</th>\n",
       "      <td>...</td>\n",
       "      <td>...</td>\n",
       "      <td>...</td>\n",
       "      <td>...</td>\n",
       "    </tr>\n",
       "    <tr>\n",
       "      <th>202</th>\n",
       "      <td>c001</td>\n",
       "      <td>2005072800003</td>\n",
       "      <td>P201000015</td>\n",
       "      <td>2</td>\n",
       "    </tr>\n",
       "    <tr>\n",
       "      <th>203</th>\n",
       "      <td>b001</td>\n",
       "      <td>2005072800004</td>\n",
       "      <td>P302000001</td>\n",
       "      <td>6</td>\n",
       "    </tr>\n",
       "    <tr>\n",
       "      <th>204</th>\n",
       "      <td>b001</td>\n",
       "      <td>2005072800004</td>\n",
       "      <td>P201000016</td>\n",
       "      <td>15</td>\n",
       "    </tr>\n",
       "    <tr>\n",
       "      <th>205</th>\n",
       "      <td>b001</td>\n",
       "      <td>2005072800004</td>\n",
       "      <td>P302000002</td>\n",
       "      <td>2</td>\n",
       "    </tr>\n",
       "    <tr>\n",
       "      <th>206</th>\n",
       "      <td>b001</td>\n",
       "      <td>2005072800004</td>\n",
       "      <td>P201000017</td>\n",
       "      <td>2</td>\n",
       "    </tr>\n",
       "  </tbody>\n",
       "</table>\n",
       "<p>207 rows × 4 columns</p>\n",
       "</div>"
      ],
      "text/plain": [
       "    CART_MEMBER        CART_NO   CART_PROD  CART_QTY\n",
       "0          a001  2005040100001  P101000001         5\n",
       "1          a001  2005040100001  P201000018        16\n",
       "2          a001  2005040100001  P302000003         7\n",
       "3          t001  2005040100002  P302000004         2\n",
       "4          t001  2005040100002  P101000002         2\n",
       "..          ...            ...         ...       ...\n",
       "202        c001  2005072800003  P201000015         2\n",
       "203        b001  2005072800004  P302000001         6\n",
       "204        b001  2005072800004  P201000016        15\n",
       "205        b001  2005072800004  P302000002         2\n",
       "206        b001  2005072800004  P201000017         2\n",
       "\n",
       "[207 rows x 4 columns]"
      ]
     },
     "execution_count": 99,
     "metadata": {},
     "output_type": "execute_result"
    }
   ],
   "source": [
    "# DataFrame 만들기 (pd.DataFrame(data, columns=[]))\n",
    "pd.DataFrame(row, columns=col)"
   ]
  },
  {
   "cell_type": "code",
   "execution_count": null,
   "id": "d952db8b",
   "metadata": {},
   "outputs": [],
   "source": []
  }
 ],
 "metadata": {
  "kernelspec": {
   "display_name": "Python 3.9.12 ('base')",
   "language": "python",
   "name": "python3"
  },
  "language_info": {
   "codemirror_mode": {
    "name": "ipython",
    "version": 3
   },
   "file_extension": ".py",
   "mimetype": "text/x-python",
   "name": "python",
   "nbconvert_exporter": "python",
   "pygments_lexer": "ipython3",
   "version": "3.9.12"
  },
  "vscode": {
   "interpreter": {
    "hash": "610a6f344c2137faf927ea819c63f6cee33a2c04455044b28099f39fe9722347"
   }
  }
 },
 "nbformat": 4,
 "nbformat_minor": 5
}
